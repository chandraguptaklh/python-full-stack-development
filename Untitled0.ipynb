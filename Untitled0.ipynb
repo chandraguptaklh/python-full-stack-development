{
  "nbformat": 4,
  "nbformat_minor": 0,
  "metadata": {
    "colab": {
      "name": "Untitled0.ipynb",
      "provenance": [],
      "authorship_tag": "ABX9TyN3QHXllhpEBwXBVvm+qIdC",
      "include_colab_link": true
    },
    "kernelspec": {
      "name": "python3",
      "display_name": "Python 3"
    },
    "language_info": {
      "name": "python"
    }
  },
  "cells": [
    {
      "cell_type": "markdown",
      "metadata": {
        "id": "view-in-github",
        "colab_type": "text"
      },
      "source": [
        "<a href=\"https://colab.research.google.com/github/chandraguptaklh/python-full-stack-development/blob/main/Untitled0.ipynb\" target=\"_parent\"><img src=\"https://colab.research.google.com/assets/colab-badge.svg\" alt=\"Open In Colab\"/></a>"
      ]
    },
    {
      "cell_type": "code",
      "source": [
        "ab=set()\n",
        "print(ab)\n",
        "ab.update([2,3])\n",
        "print(ab)"
      ],
      "metadata": {
        "colab": {
          "base_uri": "https://localhost:8080/"
        },
        "id": "2rrBmDECD-3h",
        "outputId": "67af7459-6b29-41ee-8a05-c19fd1d84942"
      },
      "execution_count": 2,
      "outputs": [
        {
          "output_type": "stream",
          "name": "stdout",
          "text": [
            "set()\n",
            "{2, 3}\n"
          ]
        }
      ]
    },
    {
      "cell_type": "code",
      "execution_count": 4,
      "metadata": {
        "colab": {
          "base_uri": "https://localhost:8080/",
          "height": 235
        },
        "id": "g6sbQczf-c98",
        "outputId": "6a6f1718-51c4-4a2a-9a96-bcf75214e284"
      },
      "outputs": [
        {
          "output_type": "stream",
          "name": "stdout",
          "text": [
            "{2, 3, 6, 7}\n"
          ]
        },
        {
          "output_type": "error",
          "ename": "AttributeError",
          "evalue": "ignored",
          "traceback": [
            "\u001b[0;31m---------------------------------------------------------------------------\u001b[0m",
            "\u001b[0;31mAttributeError\u001b[0m                            Traceback (most recent call last)",
            "\u001b[0;32m<ipython-input-4-d18ea4273143>\u001b[0m in \u001b[0;36m<module>\u001b[0;34m()\u001b[0m\n\u001b[1;32m      1\u001b[0m \u001b[0mab\u001b[0m\u001b[0;34m.\u001b[0m\u001b[0mupdate\u001b[0m\u001b[0;34m(\u001b[0m\u001b[0;34m[\u001b[0m\u001b[0;36m6\u001b[0m\u001b[0;34m,\u001b[0m\u001b[0;36m7\u001b[0m\u001b[0;34m]\u001b[0m\u001b[0;34m)\u001b[0m\u001b[0;34m\u001b[0m\u001b[0;34m\u001b[0m\u001b[0m\n\u001b[1;32m      2\u001b[0m \u001b[0mprint\u001b[0m\u001b[0;34m(\u001b[0m\u001b[0mab\u001b[0m\u001b[0;34m)\u001b[0m\u001b[0;34m\u001b[0m\u001b[0;34m\u001b[0m\u001b[0m\n\u001b[0;32m----> 3\u001b[0;31m \u001b[0mab\u001b[0m\u001b[0;34m.\u001b[0m\u001b[0mupate\u001b[0m\u001b[0;34m(\u001b[0m\u001b[0;34m[\u001b[0m\u001b[0;34m\"klh\"\u001b[0m\u001b[0;34m]\u001b[0m\u001b[0;34m)\u001b[0m\u001b[0;34m\u001b[0m\u001b[0;34m\u001b[0m\u001b[0m\n\u001b[0m\u001b[1;32m      4\u001b[0m \u001b[0mprint\u001b[0m\u001b[0;34m(\u001b[0m\u001b[0mab\u001b[0m\u001b[0;34m)\u001b[0m\u001b[0;34m\u001b[0m\u001b[0;34m\u001b[0m\u001b[0m\n",
            "\u001b[0;31mAttributeError\u001b[0m: 'set' object has no attribute 'upate'"
          ]
        }
      ],
      "source": [
        "ab.update([6,7])\n",
        "print(ab)"
      ]
    },
    {
      "cell_type": "code",
      "source": [
        "ab.update(\"klh\")\n",
        "print(ab)"
      ],
      "metadata": {
        "colab": {
          "base_uri": "https://localhost:8080/"
        },
        "id": "6LPJuD1gE8OG",
        "outputId": "0cf209e5-f3dd-4e03-b8c8-d43d8ce0568e"
      },
      "execution_count": 6,
      "outputs": [
        {
          "output_type": "stream",
          "name": "stdout",
          "text": [
            "{2, 3, 6, 7, 'k', 'h', 'l', 'klh'}\n"
          ]
        }
      ]
    },
    {
      "cell_type": "code",
      "source": [
        "ab.update(\"B.tech\",\"cse\")\n",
        "print(ab)"
      ],
      "metadata": {
        "colab": {
          "base_uri": "https://localhost:8080/"
        },
        "id": "8B3xspsCFady",
        "outputId": "d7b118f2-de44-4b61-cbe4-10b00b1e761f"
      },
      "execution_count": 8,
      "outputs": [
        {
          "output_type": "stream",
          "name": "stdout",
          "text": [
            "{2, 3, 't', 6, 7, 'k', 'h', 'l', 'e', 'c', 's', 'B', 'klh', '.'}\n"
          ]
        }
      ]
    },
    {
      "cell_type": "code",
      "source": [
        "ab.update((8,9))\n",
        "print(ab)"
      ],
      "metadata": {
        "colab": {
          "base_uri": "https://localhost:8080/"
        },
        "id": "-MB33_jTJwLa",
        "outputId": "26a42594-8216-480a-c36a-ba56a0073638"
      },
      "execution_count": 10,
      "outputs": [
        {
          "output_type": "stream",
          "name": "stdout",
          "text": [
            "{2, 3, 't', 6, 7, 8, 9, 'k', 'h', 'l', 'e', 'c', 's', 'B', 'klh', '.'}\n"
          ]
        }
      ]
    },
    {
      "cell_type": "code",
      "source": [
        "ab.discard(2)\n",
        "print(ab)"
      ],
      "metadata": {
        "colab": {
          "base_uri": "https://localhost:8080/"
        },
        "id": "6391lshTJ4aH",
        "outputId": "e9bc93fb-0044-4b3b-f87b-e5d03e51409a"
      },
      "execution_count": 11,
      "outputs": [
        {
          "output_type": "stream",
          "name": "stdout",
          "text": [
            "{3, 't', 6, 7, 8, 9, 'k', 'h', 'l', 'e', 'c', 's', 'B', 'klh', '.'}\n"
          ]
        }
      ]
    },
    {
      "cell_type": "code",
      "source": [
        "ab.remove(3)\n",
        "print(ab)"
      ],
      "metadata": {
        "colab": {
          "base_uri": "https://localhost:8080/"
        },
        "id": "kK13veVwLtuB",
        "outputId": "7cdcc34f-82e3-4e2c-f02b-56999da24a8f"
      },
      "execution_count": 12,
      "outputs": [
        {
          "output_type": "stream",
          "name": "stdout",
          "text": [
            "{'t', 6, 7, 8, 9, 'k', 'h', 'l', 'e', 'c', 's', 'B', 'klh', '.'}\n"
          ]
        }
      ]
    },
    {
      "cell_type": "code",
      "source": [
        "ab.remove(3)\n",
        "print(ab)"
      ],
      "metadata": {
        "colab": {
          "base_uri": "https://localhost:8080/",
          "height": 183
        },
        "id": "rMrSNwhbLz1A",
        "outputId": "0babb641-93b9-4fd6-a90f-35961b1d8728"
      },
      "execution_count": 13,
      "outputs": [
        {
          "output_type": "error",
          "ename": "KeyError",
          "evalue": "ignored",
          "traceback": [
            "\u001b[0;31m---------------------------------------------------------------------------\u001b[0m",
            "\u001b[0;31mKeyError\u001b[0m                                  Traceback (most recent call last)",
            "\u001b[0;32m<ipython-input-13-303ebde859bd>\u001b[0m in \u001b[0;36m<module>\u001b[0;34m()\u001b[0m\n\u001b[0;32m----> 1\u001b[0;31m \u001b[0mab\u001b[0m\u001b[0;34m.\u001b[0m\u001b[0mremove\u001b[0m\u001b[0;34m(\u001b[0m\u001b[0;36m3\u001b[0m\u001b[0;34m)\u001b[0m\u001b[0;34m\u001b[0m\u001b[0;34m\u001b[0m\u001b[0m\n\u001b[0m\u001b[1;32m      2\u001b[0m \u001b[0mprint\u001b[0m\u001b[0;34m(\u001b[0m\u001b[0mab\u001b[0m\u001b[0;34m)\u001b[0m\u001b[0;34m\u001b[0m\u001b[0;34m\u001b[0m\u001b[0m\n",
            "\u001b[0;31mKeyError\u001b[0m: 3"
          ]
        }
      ]
    },
    {
      "cell_type": "code",
      "source": [
        "ab.discard(2)\n",
        "print(ab)"
      ],
      "metadata": {
        "colab": {
          "base_uri": "https://localhost:8080/"
        },
        "id": "SJgs9ktrL4-q",
        "outputId": "e5745e47-ed2c-47ce-9e42-76c01caede37"
      },
      "execution_count": 14,
      "outputs": [
        {
          "output_type": "stream",
          "name": "stdout",
          "text": [
            "{'t', 6, 7, 8, 9, 'k', 'h', 'l', 'e', 'c', 's', 'B', 'klh', '.'}\n"
          ]
        }
      ]
    },
    {
      "cell_type": "code",
      "source": [
        ""
      ],
      "metadata": {
        "id": "gIzsivgDMKoq"
      },
      "execution_count": null,
      "outputs": []
    }
  ]
}